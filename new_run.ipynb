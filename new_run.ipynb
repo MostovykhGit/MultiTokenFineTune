{
 "cells": [
  {
   "cell_type": "code",
   "execution_count": 1,
   "id": "11879f16-e4e1-4cc0-b208-4ae991dc1500",
   "metadata": {
    "tags": []
   },
   "outputs": [
    {
     "name": "stderr",
     "output_type": "stream",
     "text": [
      "/home/jupyter/.local/lib/python3.10/site-packages/transformers/utils/hub.py:105: FutureWarning: Using `TRANSFORMERS_CACHE` is deprecated and will be removed in v5 of Transformers. Use `HF_HOME` instead.\n",
      "  warnings.warn(\n",
      "/usr/local/lib/python3.10/dist-packages/torchvision/io/image.py:13: UserWarning: Failed to load image Python extension: '/usr/local/lib/python3.10/dist-packages/torchvision/image.so: undefined symbol: _ZN3c1017RegisterOperatorsD1Ev'If you don't plan on using image functionality from `torchvision.io`, you can ignore this warning. Otherwise, there might be something wrong with your environment. Did you have `libjpeg` or `libpng` installed before building `torchvision` from source?\n",
      "  warn(\n",
      "2025-04-08 09:20:54.245217: I tensorflow/core/util/port.cc:153] oneDNN custom operations are on. You may see slightly different numerical results due to floating-point round-off errors from different computation orders. To turn them off, set the environment variable `TF_ENABLE_ONEDNN_OPTS=0`.\n",
      "2025-04-08 09:20:58.334559: E external/local_xla/xla/stream_executor/cuda/cuda_fft.cc:467] Unable to register cuFFT factory: Attempting to register factory for plugin cuFFT when one has already been registered\n",
      "WARNING: All log messages before absl::InitializeLog() is called are written to STDERR\n",
      "E0000 00:00:1744104060.104775    6979 cuda_dnn.cc:8579] Unable to register cuDNN factory: Attempting to register factory for plugin cuDNN when one has already been registered\n",
      "E0000 00:00:1744104060.961898    6979 cuda_blas.cc:1407] Unable to register cuBLAS factory: Attempting to register factory for plugin cuBLAS when one has already been registered\n",
      "W0000 00:00:1744104064.631183    6979 computation_placer.cc:177] computation placer already registered. Please check linkage and avoid linking the same target more than once.\n",
      "W0000 00:00:1744104064.631225    6979 computation_placer.cc:177] computation placer already registered. Please check linkage and avoid linking the same target more than once.\n",
      "W0000 00:00:1744104064.631228    6979 computation_placer.cc:177] computation placer already registered. Please check linkage and avoid linking the same target more than once.\n",
      "W0000 00:00:1744104064.631230    6979 computation_placer.cc:177] computation placer already registered. Please check linkage and avoid linking the same target more than once.\n",
      "2025-04-08 09:21:04.869750: I tensorflow/core/platform/cpu_feature_guard.cc:210] This TensorFlow binary is optimized to use available CPU instructions in performance-critical operations.\n",
      "To enable the following instructions: AVX2 AVX512F AVX512_VNNI FMA, in other operations, rebuild TensorFlow with the appropriate compiler flags.\n"
     ]
    }
   ],
   "source": [
    "import torch\n",
    "from transformers import AutoTokenizer\n",
    "from transformers.models.llama import LlamaForCausalLM\n",
    "from transformers.models.llama.modeling_llama import LlamaMLP\n",
    "from torch.utils.data import DataLoader\n",
    "from datasets import load_dataset\n",
    "from model import *\n",
    "\n",
    "import torch.nn as nn\n",
    "import torch.optim as optim\n",
    "from torch.utils.data import DataLoader, Dataset\n"
   ]
  },
  {
   "cell_type": "code",
   "execution_count": 3,
   "id": "78e28149-ad6d-4bd2-8ae0-95466d2b2689",
   "metadata": {
    "execution": {
     "iopub.execute_input": "2025-04-08T09:21:20.294945Z",
     "iopub.status.busy": "2025-04-08T09:21:20.292074Z",
     "iopub.status.idle": "2025-04-08T09:22:44.537602Z",
     "shell.execute_reply": "2025-04-08T09:22:44.536676Z",
     "shell.execute_reply.started": "2025-04-08T09:21:20.294878Z"
    },
    "tags": []
   },
   "outputs": [
    {
     "data": {
      "text/plain": [
       "LlamaForCausalLM(\n",
       "  (model): LlamaModel(\n",
       "    (embed_tokens): Embedding(128256, 2048, padding_idx=128004)\n",
       "    (layers): ModuleList(\n",
       "      (0-15): 16 x LlamaDecoderLayer(\n",
       "        (self_attn): LlamaAttention(\n",
       "          (q_proj): Linear(in_features=2048, out_features=2048, bias=False)\n",
       "          (k_proj): Linear(in_features=2048, out_features=512, bias=False)\n",
       "          (v_proj): Linear(in_features=2048, out_features=512, bias=False)\n",
       "          (o_proj): Linear(in_features=2048, out_features=2048, bias=False)\n",
       "        )\n",
       "        (mlp): LlamaMLP(\n",
       "          (gate_proj): Linear(in_features=2048, out_features=8192, bias=False)\n",
       "          (up_proj): Linear(in_features=2048, out_features=8192, bias=False)\n",
       "          (down_proj): Linear(in_features=8192, out_features=2048, bias=False)\n",
       "          (act_fn): SiLU()\n",
       "        )\n",
       "        (input_layernorm): LlamaRMSNorm((2048,), eps=1e-05)\n",
       "        (post_attention_layernorm): LlamaRMSNorm((2048,), eps=1e-05)\n",
       "      )\n",
       "    )\n",
       "    (norm): LlamaRMSNorm((2048,), eps=1e-05)\n",
       "    (rotary_emb): LlamaRotaryEmbedding()\n",
       "  )\n",
       "  (lm_head): Linear(in_features=2048, out_features=128256, bias=False)\n",
       ")"
      ]
     },
     "execution_count": 3,
     "metadata": {},
     "output_type": "execute_result"
    }
   ],
   "source": [
    "dtype = torch.bfloat16\n",
    "device = torch.device(\"cuda\" if torch.cuda.is_available() else \"cpu\")\n",
    "\n",
    "# Load tokenizer and base model\n",
    "tokenizer = AutoTokenizer.from_pretrained(\"unsloth/Llama-3.2-1B-Instruct\")\n",
    "tokenizer.pad_token = tokenizer.eos_token\n",
    "\n",
    "base_model = LlamaForCausalLM.from_pretrained(\"unsloth/Llama-3.2-1B-Instruct\", torch_dtype=dtype)\n",
    "base_model.to(device)\n",
    "base_model.eval()\n"
   ]
  },
  {
   "cell_type": "code",
   "execution_count": 4,
   "id": "2539f17e-6dd4-45d9-8f41-b99c22534983",
   "metadata": {
    "execution": {
     "iopub.execute_input": "2025-04-08T09:22:44.540046Z",
     "iopub.status.busy": "2025-04-08T09:22:44.539516Z",
     "iopub.status.idle": "2025-04-08T09:23:09.740698Z",
     "shell.execute_reply": "2025-04-08T09:23:09.739904Z",
     "shell.execute_reply.started": "2025-04-08T09:22:44.540007Z"
    },
    "tags": []
   },
   "outputs": [
    {
     "name": "stderr",
     "output_type": "stream",
     "text": [
      "/tmp/ipykernel_6979/2495085176.py:2: FutureWarning: You are using `torch.load` with `weights_only=False` (the current default value), which uses the default pickle module implicitly. It is possible to construct malicious pickle data which will execute arbitrary code during unpickling (See https://github.com/pytorch/pytorch/blob/main/SECURITY.md#untrusted-models for more details). In a future release, the default value for `weights_only` will be flipped to `True`. This limits the functions that could be executed during unpickling. Arbitrary objects will no longer be allowed to be loaded via this mode unless they are explicitly allowlisted by the user via `torch.serialization.add_safe_globals`. We recommend you start setting `weights_only=True` for any use case where you don't have full control of the loaded file. Please open an issue on GitHub for any issues related to this experimental feature.\n",
      "  speculator_head.load_state_dict(torch.load(\"new_nn_decoder_head.pth\"))\n"
     ]
    },
    {
     "data": {
      "text/plain": [
       "TwoHeadModel(\n",
       "  (base_model): LlamaForCausalLM(\n",
       "    (model): LlamaModel(\n",
       "      (embed_tokens): Embedding(128256, 2048, padding_idx=128004)\n",
       "      (layers): ModuleList(\n",
       "        (0-15): 16 x LlamaDecoderLayer(\n",
       "          (self_attn): LlamaAttention(\n",
       "            (q_proj): Linear(in_features=2048, out_features=2048, bias=False)\n",
       "            (k_proj): Linear(in_features=2048, out_features=512, bias=False)\n",
       "            (v_proj): Linear(in_features=2048, out_features=512, bias=False)\n",
       "            (o_proj): Linear(in_features=2048, out_features=2048, bias=False)\n",
       "          )\n",
       "          (mlp): LlamaMLP(\n",
       "            (gate_proj): Linear(in_features=2048, out_features=8192, bias=False)\n",
       "            (up_proj): Linear(in_features=2048, out_features=8192, bias=False)\n",
       "            (down_proj): Linear(in_features=8192, out_features=2048, bias=False)\n",
       "            (act_fn): SiLU()\n",
       "          )\n",
       "          (input_layernorm): LlamaRMSNorm((2048,), eps=1e-05)\n",
       "          (post_attention_layernorm): LlamaRMSNorm((2048,), eps=1e-05)\n",
       "        )\n",
       "      )\n",
       "      (norm): LlamaRMSNorm((2048,), eps=1e-05)\n",
       "      (rotary_emb): LlamaRotaryEmbedding()\n",
       "    )\n",
       "    (lm_head): Linear(in_features=2048, out_features=128256, bias=False)\n",
       "  )\n",
       "  (main_head): Linear(in_features=2048, out_features=128256, bias=False)\n",
       "  (speculator_head): PredictorHead(\n",
       "    (decoder): TransformerDecoderLayer(\n",
       "      (self_attn): MultiheadAttention(\n",
       "        (out_proj): NonDynamicallyQuantizableLinear(in_features=2048, out_features=2048, bias=True)\n",
       "      )\n",
       "      (multihead_attn): MultiheadAttention(\n",
       "        (out_proj): NonDynamicallyQuantizableLinear(in_features=2048, out_features=2048, bias=True)\n",
       "      )\n",
       "      (linear1): Linear(in_features=2048, out_features=8192, bias=True)\n",
       "      (dropout): Dropout(p=0.1, inplace=False)\n",
       "      (linear2): Linear(in_features=8192, out_features=2048, bias=True)\n",
       "      (norm1): LayerNorm((2048,), eps=1e-05, elementwise_affine=True)\n",
       "      (norm2): LayerNorm((2048,), eps=1e-05, elementwise_affine=True)\n",
       "      (norm3): LayerNorm((2048,), eps=1e-05, elementwise_affine=True)\n",
       "      (dropout1): Dropout(p=0.1, inplace=False)\n",
       "      (dropout2): Dropout(p=0.1, inplace=False)\n",
       "      (dropout3): Dropout(p=0.1, inplace=False)\n",
       "    )\n",
       "    (proj): Linear(in_features=2048, out_features=128256, bias=False)\n",
       "  )\n",
       ")"
      ]
     },
     "execution_count": 4,
     "metadata": {},
     "output_type": "execute_result"
    }
   ],
   "source": [
    "speculator_head = PredictorHead(base_model.model.config)\n",
    "speculator_head.load_state_dict(torch.load(\"new_nn_decoder_head.pth\"))\n",
    "speculator_head.to(device, dtype=dtype)\n",
    "specModel = TwoHeadModel(base_model, speculator_head)\n",
    "specModel.to(device, dtype=dtype)\n",
    "specModel.eval()"
   ]
  },
  {
   "cell_type": "code",
   "execution_count": 5,
   "id": "1758307b-c994-4850-9b79-618ab0982257",
   "metadata": {
    "execution": {
     "iopub.execute_input": "2025-04-08T09:23:09.743830Z",
     "iopub.status.busy": "2025-04-08T09:23:09.741754Z",
     "iopub.status.idle": "2025-04-08T09:23:09.787602Z",
     "shell.execute_reply": "2025-04-08T09:23:09.786727Z",
     "shell.execute_reply.started": "2025-04-08T09:23:09.743790Z"
    },
    "tags": []
   },
   "outputs": [],
   "source": [
    "class PrefixTuningModel(nn.Module):\n",
    "    def __init__(self, base_model, speculator_head, prefix_length):\n",
    "        \"\"\"\n",
    "        Args:\n",
    "            base_model: The pre-trained LlamaForCausalLM model.\n",
    "            speculator_head: The additional head (predicting the second token).\n",
    "            prefix_length: Number of trainable prefix tokens.\n",
    "        \"\"\"\n",
    "        super(PrefixTuningModel, self).__init__()\n",
    "        self.base_model = base_model\n",
    "        self.prefix_length = prefix_length\n",
    "        self.hidden_size = base_model.config.hidden_size\n",
    "        self.prefix_embeddings = nn.Parameter(torch.randn(prefix_length, self.hidden_size, dtype=dtype))\n",
    "        self.main_head = base_model.lm_head\n",
    "        self.speculator_head = speculator_head\n",
    "\n",
    "    def forward(self, input_ids, attention_mask=None):\n",
    "        batch_size = input_ids.shape[0]\n",
    "        input_embeds = self.base_model.model.embed_tokens(input_ids)  # shape: [batch, seq_len, hidden_size]\n",
    "        prefix_embeds = self.prefix_embeddings.unsqueeze(0).expand(batch_size, -1, -1)\n",
    "        concat_embeds = torch.cat([prefix_embeds, input_embeds], dim=1)\n",
    "        if attention_mask is not None:\n",
    "            prefix_mask = torch.ones(batch_size, self.prefix_length, device=attention_mask.device)\n",
    "            attention_mask = torch.cat([prefix_mask, attention_mask], dim=1)\n",
    "        outputs = self.base_model.model(inputs_embeds=concat_embeds, attention_mask=attention_mask)\n",
    "        hidden_states = outputs.last_hidden_state  # shape: [batch, (prefix+seq_len), hidden_size]\n",
    "        logits_main = self.main_head(hidden_states)\n",
    "    \n",
    "        batch_size, seq_len, _ = hidden_states.shape\n",
    "        logits_speculator = self.speculator_head(hidden_states)\n",
    "        return logits_main, logits_speculator"
   ]
  },
  {
   "cell_type": "code",
   "execution_count": 6,
   "id": "6b1b94f7-d87c-49e1-a571-72ad1c715ddf",
   "metadata": {
    "execution": {
     "iopub.execute_input": "2025-04-08T09:23:09.789507Z",
     "iopub.status.busy": "2025-04-08T09:23:09.788465Z",
     "iopub.status.idle": "2025-04-08T09:23:09.853496Z",
     "shell.execute_reply": "2025-04-08T09:23:09.852645Z",
     "shell.execute_reply.started": "2025-04-08T09:23:09.789464Z"
    },
    "tags": []
   },
   "outputs": [
    {
     "data": {
      "text/plain": [
       "<torch._C.Generator at 0x7f6468af5d30>"
      ]
     },
     "execution_count": 6,
     "metadata": {},
     "output_type": "execute_result"
    }
   ],
   "source": [
    "from torch.optim.lr_scheduler import LinearLR\n",
    "\n",
    "prefix_length = 8\n",
    "\n",
    "p_tuning_model = PrefixTuningModel(base_model, speculator_head, prefix_length)\n",
    "\n",
    "p_tuning_model.to(device)\n",
    "\n",
    "for param in p_tuning_model.base_model.parameters():\n",
    "    param.requires_grad = False\n",
    "for param in p_tuning_model.speculator_head.parameters():\n",
    "    param.requires_grad = False\n",
    "\n",
    "torch.manual_seed(11786353908476520374)\n",
    "optimizer = optim.Adam(p_tuning_model.parameters(), lr=1e-3)\n",
    "\n",
    "torch.manual_seed(11786353908476520374)\n",
    "criterion = nn.CrossEntropyLoss()\n",
    "torch.manual_seed(11786353908476520374)\n"
   ]
  },
  {
   "cell_type": "code",
   "execution_count": 7,
   "id": "9e6015f9-065d-4ab2-a21e-0546b2dbdad7",
   "metadata": {
    "execution": {
     "iopub.execute_input": "2025-04-08T09:23:09.855721Z",
     "iopub.status.busy": "2025-04-08T09:23:09.854502Z",
     "iopub.status.idle": "2025-04-08T09:23:15.285481Z",
     "shell.execute_reply": "2025-04-08T09:23:15.284698Z",
     "shell.execute_reply.started": "2025-04-08T09:23:09.855664Z"
    },
    "tags": []
   },
   "outputs": [],
   "source": [
    "dataset = load_dataset(\"gsm8k\", \"main\")\n",
    "\n",
    "tokenizer = AutoTokenizer.from_pretrained(\"unsloth/Llama-3.2-1B-Instruct\")\n",
    "tokenizer.pad_token = tokenizer.eos_token\n",
    "\n",
    "def tokenize_function(batch):\n",
    "    texts = [q for q in batch[\"question\"]]\n",
    "    tokenized = tokenizer(texts, truncation=True, max_length=512)\n",
    "    return tokenized\n",
    "\n",
    "def collate_fn(batch):\n",
    "    input_ids = [example[\"input_ids\"] for example in batch]\n",
    "    padded = tokenizer.pad({\"input_ids\": input_ids}, return_tensors=\"pt\")\n",
    "    return padded"
   ]
  },
  {
   "cell_type": "code",
   "execution_count": 8,
   "id": "2c23f306-20c7-4eb8-948e-ad01321c7866",
   "metadata": {
    "execution": {
     "iopub.execute_input": "2025-04-08T09:23:15.287428Z",
     "iopub.status.busy": "2025-04-08T09:23:15.286869Z",
     "iopub.status.idle": "2025-04-08T09:23:15.336818Z",
     "shell.execute_reply": "2025-04-08T09:23:15.336037Z",
     "shell.execute_reply.started": "2025-04-08T09:23:15.287391Z"
    },
    "tags": []
   },
   "outputs": [],
   "source": [
    "MAX_LENGTH = 128  # Max tokens per sequence\n",
    "BATCH_SIZE = 8\n",
    "\n",
    "class MathDataset(Dataset):\n",
    "    def __init__(self, split=\"train\"):\n",
    "        self.data = dataset[split]\n",
    "    \n",
    "    def __len__(self):\n",
    "        return len(self.data)\n",
    "    \n",
    "    def __getitem__(self, idx):\n",
    "        item = self.data[idx]\n",
    "        question = item[\"question\"]\n",
    "        answer = item[\"answer\"]\n",
    "\n",
    "        # Tokenize input and label\n",
    "        encoding = tokenizer(question, padding=\"max_length\", truncation=True, max_length=MAX_LENGTH, return_tensors=\"pt\")\n",
    "        label_encoding = tokenizer(answer, padding=\"max_length\", truncation=True, max_length=MAX_LENGTH, return_tensors=\"pt\")\n",
    "\n",
    "        input_ids = encoding[\"input_ids\"].squeeze(0)  # Remove batch dim\n",
    "        attention_mask = encoding[\"attention_mask\"].squeeze(0)\n",
    "        labels = label_encoding[\"input_ids\"].squeeze(0)  # Labels are the tokenized answer\n",
    "\n",
    "        return {\"input_ids\": input_ids, \"attention_mask\": attention_mask, \"labels\": labels}\n",
    "\n",
    "train_dataset = MathDataset(\"train\")\n",
    "train_dataloader = DataLoader(train_dataset, batch_size=BATCH_SIZE, shuffle=True)\n",
    "\n",
    "val_dataset = MathDataset(\"test\")\n",
    "val_dataloader = DataLoader(val_dataset, batch_size=BATCH_SIZE, shuffle=True)\n"
   ]
  },
  {
   "cell_type": "code",
   "execution_count": 9,
   "id": "e1869ac6-ebc4-4d98-8aaf-cd19f053439c",
   "metadata": {
    "execution": {
     "iopub.execute_input": "2025-04-08T09:23:15.341008Z",
     "iopub.status.busy": "2025-04-08T09:23:15.338201Z",
     "iopub.status.idle": "2025-04-08T09:23:15.418341Z",
     "shell.execute_reply": "2025-04-08T09:23:15.417376Z",
     "shell.execute_reply.started": "2025-04-08T09:23:15.340965Z"
    },
    "tags": []
   },
   "outputs": [
    {
     "name": "stdout",
     "output_type": "stream",
     "text": [
      "Trainable parameters: 16384\n"
     ]
    }
   ],
   "source": [
    "# trainable params count:\n",
    "def count_parameters(model):\n",
    "    return sum(p.numel() for p in model.parameters() if p.requires_grad)\n",
    "\n",
    "print(\"Trainable parameters:\", count_parameters(p_tuning_model))"
   ]
  },
  {
   "cell_type": "code",
   "execution_count": 10,
   "id": "23fa4e14-fb24-49d4-962b-d1bd5e3ee110",
   "metadata": {
    "execution": {
     "iopub.execute_input": "2025-04-08T09:23:15.422609Z",
     "iopub.status.busy": "2025-04-08T09:23:15.421496Z",
     "iopub.status.idle": "2025-04-08T09:23:15.489819Z",
     "shell.execute_reply": "2025-04-08T09:23:15.489038Z",
     "shell.execute_reply.started": "2025-04-08T09:23:15.422565Z"
    },
    "tags": []
   },
   "outputs": [],
   "source": [
    "from IPython.display import clear_output\n",
    "import warnings\n",
    "import time\n",
    "from datetime import timedelta\n",
    "import numpy as np\n",
    "from collections import defaultdict\n",
    "import matplotlib.pyplot as plt\n",
    "import torch\n",
    "\n",
    "def get_lr(optimizer):\n",
    "    for param_group in optimizer.param_groups:\n",
    "        return param_group['lr']\n",
    "\n",
    "def learning_loop(\n",
    "    model,\n",
    "    optimizer,\n",
    "    train_dataloader,\n",
    "    val_dataloader,\n",
    "    criterion,\n",
    "    scheduler=None,\n",
    "    min_lr=None,\n",
    "    epochs=3,\n",
    "    val_every=100,\n",
    "    draw_every=50,\n",
    "    separate_show=False,\n",
    "    model_name=None,\n",
    "    chkp_folder=\"./chkps\",\n",
    "    metric_names=None,\n",
    "):\n",
    "\n",
    "    device = next(model.parameters()).device\n",
    "    dtype = next(model.parameters()).dtype\n",
    "\n",
    "    losses = {'train': [], 'val': [], 'accuracy_val': [], 'lr': []}\n",
    "    # lrs = []\n",
    "    best_val_loss = np.Inf\n",
    "    if metric_names is not None:\n",
    "        metrics = defaultdict(list)\n",
    "    start_time = time.monotonic()\n",
    "    \n",
    "    # [1, 1, 0, 0, 0, 1, 1, 0, 0, 0]\n",
    "    idx = 0\n",
    "\n",
    "    for epoch in range(1, epochs + 1):\n",
    "        model.train()\n",
    "\n",
    "        for batch_idx, batch in enumerate(train_dataloader):\n",
    "            if idx % 10 == 0:\n",
    "                print(idx)\n",
    "            idx += 1\n",
    "\n",
    "            input_ids = batch[\"input_ids\"].to(device)\n",
    "            attention_mask = batch[\"attention_mask\"].to(device)\n",
    "            labels = batch[\"labels\"].to(device)\n",
    "\n",
    "            attention_mask = attention_mask.to(dtype=dtype)\n",
    "\n",
    "            optimizer.zero_grad()\n",
    "\n",
    "            model_logits_main, model_logits_speculator = model(input_ids, attention_mask)\n",
    "\n",
    "            seq_length = input_ids.shape[1]\n",
    "            model_logits_main = model_logits_main[:, -seq_length:, :]\n",
    "            model_logits_speculator = model_logits_speculator[:, -seq_length:-1, :]\n",
    "\n",
    "            model_loss_main = criterion(\n",
    "                model_logits_main.contiguous().view(-1, model_logits_main.size(-1)),\n",
    "                labels.view(-1)\n",
    "            )\n",
    "            model_loss_head = criterion(\n",
    "                model_logits_speculator.contiguous().view(-1, model_logits_speculator.size(-1)),\n",
    "                labels[:, 1:].reshape(-1)\n",
    "            )\n",
    "\n",
    "            \n",
    "            if ((idx // 400) % 2 == 0):\n",
    "                model_loss_head.backward()\n",
    "            else:\n",
    "                model_loss_main.backward()\n",
    "            \n",
    "            optimizer.step()\n",
    "            scheduler.step()\n",
    "            \n",
    "            current_lr = optimizer.param_groups[0]['lr']\n",
    "            losses['lr'].append(current_lr)\n",
    "\n",
    "            losses['train'].append(model_loss_main.item())\n",
    "\n",
    "            # validation\n",
    "            if idx % val_every == 0:\n",
    "                model.eval()\n",
    "\n",
    "                avg_loss_val = 0.0\n",
    "                \n",
    "                agree = 0\n",
    "                total = 0\n",
    "\n",
    "                with torch.no_grad():\n",
    "                    for idx_val, batch in enumerate(val_dataloader):\n",
    "                        if idx_val == 10:\n",
    "                            break\n",
    "\n",
    "                        input_ids = batch[\"input_ids\"].to(device)\n",
    "                        attention_mask = batch[\"attention_mask\"].to(device)\n",
    "                        labels = batch[\"labels\"].to(device)\n",
    "\n",
    "                        attention_mask = attention_mask.to(dtype=dtype)\n",
    "\n",
    "                        model_logits_main_val, _ = model(input_ids, attention_mask)\n",
    "\n",
    "                        seq_length = input_ids.shape[1]\n",
    "                        model_logits_main_val = model_logits_main_val[:, -seq_length:, :]\n",
    "\n",
    "                        val_loss = criterion(\n",
    "                            model_logits_main_val.contiguous().view(-1, model_logits_main_val.size(-1)),\n",
    "                            labels.view(-1)\n",
    "                        ).item()\n",
    "                        \n",
    "                        avg_loss_val += val_loss\n",
    "                        \n",
    "                        #accuracy computation\n",
    "                        preds = torch.argmax(model_logits_main_val, dim=-1)\n",
    "                        \n",
    "                        agree += (preds == labels).sum().item()\n",
    "                        total += preds.numel()\n",
    "                        \n",
    "\n",
    "                avg_loss_val /= 10\n",
    "\n",
    "                losses['val'].append(avg_loss_val)\n",
    "                \n",
    "                losses['accuracy_val'].append(agree / total if total > 0 else 0)\n",
    "\n",
    "                torch.cuda.empty_cache()\n",
    "\n",
    "                model.train()\n",
    "\n",
    "            # plotting\n",
    "            if idx % draw_every == 0:\n",
    "                clear_output(True)\n",
    "                plt.clf()\n",
    "                plt.figure(figsize=(10, 5))\n",
    "\n",
    "                plt.subplot(2, 2, 1)\n",
    "                plt.plot(losses['train'], label='train_loss')\n",
    "                plt.xlabel('Iter')\n",
    "                plt.ylabel('Loss')\n",
    "                plt.title('Training Losses')\n",
    "                plt.legend()\n",
    "                plt.grid(True)\n",
    "\n",
    "                plt.subplot(2, 2, 2)\n",
    "                plt.plot(losses['val'], label='val_loss')\n",
    "                plt.xlabel('Iter')\n",
    "                plt.ylabel('Loss')\n",
    "                plt.title('Validation Losses')\n",
    "                plt.legend()\n",
    "                plt.grid(True)\n",
    "\n",
    "                \n",
    "                plt.subplot(2, 2, 3)\n",
    "                plt.plot(losses['accuracy_val'], label='accuracy_val')\n",
    "                plt.xlabel('Iter')\n",
    "                plt.ylabel('accuracy')\n",
    "                plt.title('Validation accuracy')\n",
    "                plt.legend()\n",
    "                plt.grid(True)          \n",
    "                \n",
    "                plt.subplot(2, 2, 4)\n",
    "                plt.plot(losses['lr'], label='lr')\n",
    "                plt.xlabel('Iter')\n",
    "                plt.ylabel('lr')\n",
    "                plt.title('learning_rate')\n",
    "                plt.legend()\n",
    "                plt.grid(True)\n",
    "\n",
    "                plt.tight_layout()\n",
    "                plt.show()\n",
    "\n",
    "    return losses\n"
   ]
  },
  {
   "cell_type": "code",
   "execution_count": 11,
   "id": "4a2932e9-0e28-446e-be44-045002c1874a",
   "metadata": {
    "execution": {
     "iopub.execute_input": "2025-04-08T09:23:15.491964Z",
     "iopub.status.busy": "2025-04-08T09:23:15.491092Z",
     "iopub.status.idle": "2025-04-08T09:23:15.532865Z",
     "shell.execute_reply": "2025-04-08T09:23:15.532002Z",
     "shell.execute_reply.started": "2025-04-08T09:23:15.491927Z"
    },
    "tags": []
   },
   "outputs": [],
   "source": [
    "from torch.optim.lr_scheduler import CosineAnnealingLR\n",
    "from torch.optim.lr_scheduler import LinearLR\n",
    "\n",
    "\n",
    "num_epochs = 4\n",
    "\n",
    "total_steps = num_epochs * len(train_dataloader)  # Total training steps\n",
    "\n",
    "scheduler = CosineAnnealingLR(optimizer, T_max=total_steps, eta_min=0)\n"
   ]
  },
  {
   "cell_type": "code",
   "execution_count": null,
   "id": "8753638c-9b59-4658-8f78-a1c230d45d66",
   "metadata": {
    "execution": {
     "iopub.execute_input": "2025-04-08T09:23:15.534435Z",
     "iopub.status.busy": "2025-04-08T09:23:15.533882Z"
    },
    "tags": []
   },
   "outputs": [
    {
     "data": {
      "text/plain": [
       "<Figure size 640x480 with 0 Axes>"
      ]
     },
     "metadata": {},
     "output_type": "display_data"
    },
    {
     "data": {
      "image/png": "[encoded data removed]",
      "text/plain": [
       "<Figure size 1000x500 with 4 Axes>"
      ]
     },
     "metadata": {},
     "output_type": "display_data"
    },
    {
     "name": "stdout",
     "output_type": "stream",
     "text": [
      "200\n"
     ]
    }
   ],
   "source": [
    "# from torch.optim.lr_scheduler import LinearLR  # Corrected import\n",
    "import numpy as np\n",
    "\n",
    "losses = learning_loop(\n",
    "    p_tuning_model,\n",
    "    optimizer,\n",
    "    train_dataloader,\n",
    "    val_dataloader,\n",
    "    nn.CrossEntropyLoss(),\n",
    "    scheduler=scheduler,\n",
    "    min_lr=None,\n",
    "    epochs=num_epochs,\n",
    "    val_every=30,\n",
    "    draw_every=40,\n",
    "    separate_show=False,\n",
    "    model_name=None,\n",
    "    chkp_folder=\"./chkps\",\n",
    "    metric_names=None,\n",
    ")\n",
    "\n"
   ]
  },
  {
   "cell_type": "code",
   "execution_count": null,
   "id": "f7f22e27-3c6c-4913-bcb9-626e98770b36",
   "metadata": {
    "tags": []
   },
   "outputs": [],
   "source": [
    "print(losses['train'])"
   ]
  },
  {
   "cell_type": "code",
   "execution_count": null,
   "id": "a1ed8972-3aa5-4970-9373-4e904ba2f3b5",
   "metadata": {
    "tags": []
   },
   "outputs": [],
   "source": [
    "print(losses['val'])"
   ]
  },
  {
   "cell_type": "code",
   "execution_count": null,
   "id": "cf004494-8da7-411e-8332-3800d781f799",
   "metadata": {
    "tags": []
   },
   "outputs": [],
   "source": [
    "print(losses['accuracy_val'])"
   ]
  },
  {
   "cell_type": "code",
   "execution_count": null,
   "id": "a21fe3f9-0b97-4c47-a85a-712b8b5d37d8",
   "metadata": {
    "tags": []
   },
   "outputs": [],
   "source": [
    "print(losses['lr'])"
   ]
  }
 ],
 "metadata": {
  "kernelspec": {
   "display_name": "DataSphere Kernel",
   "language": "python",
   "name": "python3"
  },
  "language_info": {
   "codemirror_mode": {
    "name": "ipython",
    "version": 3
   },
   "file_extension": ".py",
   "mimetype": "text/x-python",
   "name": "python",
   "nbconvert_exporter": "python",
   "pygments_lexer": "ipython3",
   "version": "3.10.12"
  }
 },
 "nbformat": 4,
 "nbformat_minor": 5
}
