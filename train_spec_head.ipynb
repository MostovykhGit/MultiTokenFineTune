{
 "cells": [
  {
   "cell_type": "code",
   "execution_count": 1,
   "id": "1f7399e1-5731-4a49-b591-57d1e40cdca4",
   "metadata": {
    "execution": {
     "iopub.execute_input": "2025-04-04T07:49:40.641964Z",
     "iopub.status.busy": "2025-04-04T07:49:40.640514Z",
     "iopub.status.idle": "2025-04-04T07:50:40.619957Z",
     "shell.execute_reply": "2025-04-04T07:50:40.619135Z",
     "shell.execute_reply.started": "2025-04-04T07:49:40.641915Z"
    },
    "tags": []
   },
   "outputs": [
    {
     "name": "stderr",
     "output_type": "stream",
     "text": [
      "/home/jupyter/.local/lib/python3.10/site-packages/transformers/utils/hub.py:105: FutureWarning: Using `TRANSFORMERS_CACHE` is deprecated and will be removed in v5 of Transformers. Use `HF_HOME` instead.\n",
      "  warnings.warn(\n",
      "/usr/local/lib/python3.10/dist-packages/torchvision/io/image.py:13: UserWarning: Failed to load image Python extension: '/usr/local/lib/python3.10/dist-packages/torchvision/image.so: undefined symbol: _ZN3c1017RegisterOperatorsD1Ev'If you don't plan on using image functionality from `torchvision.io`, you can ignore this warning. Otherwise, there might be something wrong with your environment. Did you have `libjpeg` or `libpng` installed before building `torchvision` from source?\n",
      "  warn(\n",
      "2025-04-04 07:50:16.862909: I tensorflow/core/util/port.cc:153] oneDNN custom operations are on. You may see slightly different numerical results due to floating-point round-off errors from different computation orders. To turn them off, set the environment variable `TF_ENABLE_ONEDNN_OPTS=0`.\n",
      "2025-04-04 07:50:20.985761: E external/local_xla/xla/stream_executor/cuda/cuda_fft.cc:467] Unable to register cuFFT factory: Attempting to register factory for plugin cuFFT when one has already been registered\n",
      "WARNING: All log messages before absl::InitializeLog() is called are written to STDERR\n",
      "E0000 00:00:1743753022.736700   10713 cuda_dnn.cc:8579] Unable to register cuDNN factory: Attempting to register factory for plugin cuDNN when one has already been registered\n",
      "E0000 00:00:1743753023.282201   10713 cuda_blas.cc:1407] Unable to register cuBLAS factory: Attempting to register factory for plugin cuBLAS when one has already been registered\n",
      "W0000 00:00:1743753027.276588   10713 computation_placer.cc:177] computation placer already registered. Please check linkage and avoid linking the same target more than once.\n",
      "W0000 00:00:1743753027.276626   10713 computation_placer.cc:177] computation placer already registered. Please check linkage and avoid linking the same target more than once.\n",
      "W0000 00:00:1743753027.276629   10713 computation_placer.cc:177] computation placer already registered. Please check linkage and avoid linking the same target more than once.\n",
      "W0000 00:00:1743753027.276631   10713 computation_placer.cc:177] computation placer already registered. Please check linkage and avoid linking the same target more than once.\n",
      "2025-04-04 07:50:27.504816: I tensorflow/core/platform/cpu_feature_guard.cc:210] This TensorFlow binary is optimized to use available CPU instructions in performance-critical operations.\n",
      "To enable the following instructions: AVX2 AVX512F AVX512_VNNI FMA, in other operations, rebuild TensorFlow with the appropriate compiler flags.\n"
     ]
    }
   ],
   "source": [
    "import torch\n",
    "import tqdm\n",
    "from transformers import AutoTokenizer\n",
    "from transformers.models.llama import LlamaForCausalLM\n",
    "from transformers.models.llama.modeling_llama import LlamaMLP\n",
    "from torch.utils.data import DataLoader\n",
    "from torch.optim.lr_scheduler import ExponentialLR\n",
    "from datasets import load_dataset\n",
    "from model import *\n",
    "import gc"
   ]
  },
  {
   "cell_type": "code",
   "execution_count": 8,
   "id": "bfdf2c3c-eda8-43f1-9465-7f90b90a140e",
   "metadata": {
    "execution": {
     "iopub.execute_input": "2025-04-03T09:59:52.868194Z",
     "iopub.status.busy": "2025-04-03T09:59:52.867117Z",
     "iopub.status.idle": "2025-04-03T09:59:52.888966Z",
     "shell.execute_reply": "2025-04-03T09:59:52.888079Z",
     "shell.execute_reply.started": "2025-04-03T09:59:52.868151Z"
    },
    "tags": []
   },
   "outputs": [],
   "source": [
    "from model import *\n"
   ]
  },
  {
   "cell_type": "code",
   "execution_count": 2,
   "id": "a4baead1-7a33-4154-9ebe-597576ab513b",
   "metadata": {
    "execution": {
     "iopub.execute_input": "2025-04-04T07:50:45.676792Z",
     "iopub.status.busy": "2025-04-04T07:50:45.676033Z",
     "iopub.status.idle": "2025-04-04T07:52:13.619510Z",
     "shell.execute_reply": "2025-04-04T07:52:13.618597Z",
     "shell.execute_reply.started": "2025-04-04T07:50:45.676749Z"
    },
    "tags": []
   },
   "outputs": [],
   "source": [
    "dtype = torch.bfloat16\n",
    "device = torch.device(\"cuda\" if torch.cuda.is_available() else \"cpu\")\n",
    "\n",
    "tokenizer = AutoTokenizer.from_pretrained(\"unsloth/Llama-3.2-1B-Instruct\")\n",
    "tokenizer.pad_token = tokenizer.eos_token\n",
    "base_model = LlamaForCausalLM.from_pretrained(\"unsloth/Llama-3.2-1B-Instruct\", torch_dtype=dtype)\n",
    "base_model.to(device)\n",
    "base_model.eval()\n",
    "\n",
    "speculator_head = PredictorHead(base_model.model.config)\n",
    "# speculator_head.load_state_dict(torch.load(\"speculator_head.pth\", weights_only=True))\n",
    "speculator_head.to(device, dtype=dtype)\n",
    "specModel = TwoHeadModel(base_model, speculator_head)\n",
    "specModel.to(device, dtype=dtype)\n",
    "for param in specModel.base_model.parameters():\n",
    "    param.requires_grad = False\n",
    "for param in specModel.main_head.parameters():\n",
    "    param.requires_grad = False\n",
    "\n"
   ]
  },
  {
   "cell_type": "code",
   "execution_count": 3,
   "id": "3643b034-32ab-4037-becb-5a97527b7443",
   "metadata": {
    "execution": {
     "iopub.execute_input": "2025-04-04T07:52:13.621518Z",
     "iopub.status.busy": "2025-04-04T07:52:13.621036Z",
     "iopub.status.idle": "2025-04-04T07:52:26.011009Z",
     "shell.execute_reply": "2025-04-04T07:52:26.009938Z",
     "shell.execute_reply.started": "2025-04-04T07:52:13.621482Z"
    },
    "tags": []
   },
   "outputs": [
    {
     "name": "stdout",
     "output_type": "stream",
     "text": [
      "Number of parameters: 313.03M\n"
     ]
    }
   ],
   "source": [
    "dataset = load_dataset(\"Aeala/ShareGPT_Vicuna_unfiltered\", split=\"train[:50000]\")\n",
    "\n",
    "def tokenize_function(batch):\n",
    "    conversations = batch[\"conversations\"]\n",
    "    texts = [\"\\n\".join([turn[\"value\"] for turn in convo]) for convo in conversations]\n",
    "    tokenized = tokenizer(texts, truncation=True, max_length=128)\n",
    "    return tokenized\n",
    "\n",
    "tokenized_dataset = dataset.map(tokenize_function, batched=True, remove_columns=dataset.column_names)\n",
    "tokenized_dataset = tokenized_dataset.filter(lambda x: len(x[\"input_ids\"]) > 2)\n",
    "\n",
    "def collate_fn(batch):\n",
    "    input_ids = [example[\"input_ids\"] for example in batch]\n",
    "    padded = tokenizer.pad({\"input_ids\": input_ids}, return_tensors=\"pt\")\n",
    "    return padded\n",
    "\n",
    "batch_size = 8\n",
    "dataloader = DataLoader(tokenized_dataset, batch_size=batch_size, shuffle=True, collate_fn=collate_fn)\n",
    "num_params = sum(p.numel() for p in specModel.parameters() if p.requires_grad)\n",
    "print(f\"Number of parameters: {num_params / 1e6:.2f}M\")\n"
   ]
  },
  {
   "cell_type": "code",
   "execution_count": 10,
   "id": "882351bd-0e2d-4925-a7ef-1dae38c84275",
   "metadata": {
    "execution": {
     "iopub.execute_input": "2025-04-03T12:07:46.640476Z",
     "iopub.status.busy": "2025-04-03T12:07:46.639359Z",
     "iopub.status.idle": "2025-04-03T12:08:08.205306Z",
     "shell.execute_reply": "2025-04-03T12:08:08.204397Z",
     "shell.execute_reply.started": "2025-04-03T12:07:46.640435Z"
    },
    "tags": []
   },
   "outputs": [],
   "source": [
    "# torch.save(specModel.speculator_head.state_dict(), \"speculator_head1.pth\")\n"
   ]
  },
  {
   "cell_type": "code",
   "execution_count": 4,
   "id": "e5f7b3bb-dc85-4b65-bc77-ff9afbc43ae0",
   "metadata": {
    "execution": {
     "iopub.execute_input": "2025-04-04T07:52:26.013405Z",
     "iopub.status.busy": "2025-04-04T07:52:26.012149Z",
     "iopub.status.idle": "2025-04-04T07:52:46.307856Z",
     "shell.execute_reply": "2025-04-04T07:52:46.306909Z",
     "shell.execute_reply.started": "2025-04-04T07:52:26.013366Z"
    },
    "tags": []
   },
   "outputs": [
    {
     "data": {
      "text/plain": [
       "<All keys matched successfully>"
      ]
     },
     "execution_count": 4,
     "metadata": {},
     "output_type": "execute_result"
    }
   ],
   "source": [
    "speculator_head.load_state_dict(torch.load(\"speculator_head1.pth\", weights_only=True))\n"
   ]
  },
  {
   "cell_type": "code",
   "execution_count": 20,
   "id": "f08b69ea-c986-4b68-ba7f-ebd1bc550dc5",
   "metadata": {
    "execution": {
     "iopub.execute_input": "2025-04-03T16:59:11.100694Z",
     "iopub.status.busy": "2025-04-03T16:59:11.099677Z",
     "iopub.status.idle": "2025-04-03T18:13:04.900623Z",
     "shell.execute_reply": "2025-04-03T18:13:04.896963Z",
     "shell.execute_reply.started": "2025-04-03T16:59:11.100646Z"
    },
    "tags": []
   },
   "outputs": [
    {
     "data": {
      "image/png": "[encoded data removed]",
      "text/plain": [
       "<Figure size 1000x600 with 1 Axes>"
      ]
     },
     "metadata": {},
     "output_type": "display_data"
    },
    {
     "name": "stderr",
     "output_type": "stream",
     "text": [
      " 38%|███▊      | 2386/6250 [1:13:28<2:01:12,  1.88s/it]/tmp/ipykernel_4141/234800523.py:35: UserWarning: Implicit dimension choice for softmax has been deprecated. Change the call to include dim=X as an argument.\n",
      "  loss = loss_fn(spec_logits, torch.nn.functional.softmax(head_logits))\n",
      " 38%|███▊      | 2387/6250 [1:13:30<2:00:04,  1.86s/it]"
     ]
    },
    {
     "name": "stdout",
     "output_type": "stream",
     "text": [
      "Epoch: 0 | Loss: 6.4688 | Avg Last 5 Loss: 6.1125\n"
     ]
    },
    {
     "name": "stderr",
     "output_type": "stream",
     "text": [
      "/tmp/ipykernel_4141/234800523.py:35: UserWarning: Implicit dimension choice for softmax has been deprecated. Change the call to include dim=X as an argument.\n",
      "  loss = loss_fn(spec_logits, torch.nn.functional.softmax(head_logits))\n",
      " 38%|███▊      | 2388/6250 [1:13:32<1:59:14,  1.85s/it]"
     ]
    },
    {
     "name": "stdout",
     "output_type": "stream",
     "text": [
      "Epoch: 0 | Loss: 5.9375 | Avg Last 5 Loss: 6.0938\n"
     ]
    },
    {
     "name": "stderr",
     "output_type": "stream",
     "text": [
      "/tmp/ipykernel_4141/234800523.py:35: UserWarning: Implicit dimension choice for softmax has been deprecated. Change the call to include dim=X as an argument.\n",
      "  loss = loss_fn(spec_logits, torch.nn.functional.softmax(head_logits))\n",
      " 38%|███▊      | 2389/6250 [1:13:34<1:58:36,  1.84s/it]"
     ]
    },
    {
     "name": "stdout",
     "output_type": "stream",
     "text": [
      "Epoch: 0 | Loss: 6.4688 | Avg Last 5 Loss: 6.1500\n"
     ]
    },
    {
     "name": "stderr",
     "output_type": "stream",
     "text": [
      "/tmp/ipykernel_4141/234800523.py:35: UserWarning: Implicit dimension choice for softmax has been deprecated. Change the call to include dim=X as an argument.\n",
      "  loss = loss_fn(spec_logits, torch.nn.functional.softmax(head_logits))\n",
      " 38%|███▊      | 2390/6250 [1:13:35<1:57:46,  1.83s/it]"
     ]
    },
    {
     "name": "stdout",
     "output_type": "stream",
     "text": [
      "Epoch: 0 | Loss: 6.9375 | Avg Last 5 Loss: 6.3063\n"
     ]
    },
    {
     "name": "stderr",
     "output_type": "stream",
     "text": [
      "/tmp/ipykernel_4141/234800523.py:35: UserWarning: Implicit dimension choice for softmax has been deprecated. Change the call to include dim=X as an argument.\n",
      "  loss = loss_fn(spec_logits, torch.nn.functional.softmax(head_logits))\n",
      " 38%|███▊      | 2391/6250 [1:13:37<1:57:22,  1.82s/it]"
     ]
    },
    {
     "name": "stdout",
     "output_type": "stream",
     "text": [
      "Epoch: 0 | Loss: 6.2812 | Avg Last 5 Loss: 6.4188\n"
     ]
    },
    {
     "name": "stderr",
     "output_type": "stream",
     "text": [
      "/tmp/ipykernel_4141/234800523.py:35: UserWarning: Implicit dimension choice for softmax has been deprecated. Change the call to include dim=X as an argument.\n",
      "  loss = loss_fn(spec_logits, torch.nn.functional.softmax(head_logits))\n",
      " 38%|███▊      | 2392/6250 [1:13:39<1:57:10,  1.82s/it]"
     ]
    },
    {
     "name": "stdout",
     "output_type": "stream",
     "text": [
      "Epoch: 0 | Loss: 6.6875 | Avg Last 5 Loss: 6.4625\n"
     ]
    },
    {
     "name": "stderr",
     "output_type": "stream",
     "text": [
      "/tmp/ipykernel_4141/234800523.py:35: UserWarning: Implicit dimension choice for softmax has been deprecated. Change the call to include dim=X as an argument.\n",
      "  loss = loss_fn(spec_logits, torch.nn.functional.softmax(head_logits))\n",
      " 38%|███▊      | 2393/6250 [1:13:41<1:56:56,  1.82s/it]"
     ]
    },
    {
     "name": "stdout",
     "output_type": "stream",
     "text": [
      "Epoch: 0 | Loss: 5.9688 | Avg Last 5 Loss: 6.4688\n"
     ]
    },
    {
     "name": "stderr",
     "output_type": "stream",
     "text": [
      "/tmp/ipykernel_4141/234800523.py:35: UserWarning: Implicit dimension choice for softmax has been deprecated. Change the call to include dim=X as an argument.\n",
      "  loss = loss_fn(spec_logits, torch.nn.functional.softmax(head_logits))\n",
      " 38%|███▊      | 2394/6250 [1:13:43<1:56:56,  1.82s/it]"
     ]
    },
    {
     "name": "stdout",
     "output_type": "stream",
     "text": [
      "Epoch: 0 | Loss: 5.9375 | Avg Last 5 Loss: 6.3625\n"
     ]
    },
    {
     "name": "stderr",
     "output_type": "stream",
     "text": [
      "/tmp/ipykernel_4141/234800523.py:35: UserWarning: Implicit dimension choice for softmax has been deprecated. Change the call to include dim=X as an argument.\n",
      "  loss = loss_fn(spec_logits, torch.nn.functional.softmax(head_logits))\n",
      " 38%|███▊      | 2395/6250 [1:13:44<1:56:51,  1.82s/it]"
     ]
    },
    {
     "name": "stdout",
     "output_type": "stream",
     "text": [
      "Epoch: 0 | Loss: 6.6250 | Avg Last 5 Loss: 6.3000\n"
     ]
    },
    {
     "name": "stderr",
     "output_type": "stream",
     "text": [
      "/tmp/ipykernel_4141/234800523.py:35: UserWarning: Implicit dimension choice for softmax has been deprecated. Change the call to include dim=X as an argument.\n",
      "  loss = loss_fn(spec_logits, torch.nn.functional.softmax(head_logits))\n",
      " 38%|███▊      | 2396/6250 [1:13:46<1:56:41,  1.82s/it]"
     ]
    },
    {
     "name": "stdout",
     "output_type": "stream",
     "text": [
      "Epoch: 0 | Loss: 7.3750 | Avg Last 5 Loss: 6.5187\n"
     ]
    },
    {
     "name": "stderr",
     "output_type": "stream",
     "text": [
      "/tmp/ipykernel_4141/234800523.py:35: UserWarning: Implicit dimension choice for softmax has been deprecated. Change the call to include dim=X as an argument.\n",
      "  loss = loss_fn(spec_logits, torch.nn.functional.softmax(head_logits))\n",
      " 38%|███▊      | 2397/6250 [1:13:48<1:56:48,  1.82s/it]"
     ]
    },
    {
     "name": "stdout",
     "output_type": "stream",
     "text": [
      "Epoch: 0 | Loss: 6.1875 | Avg Last 5 Loss: 6.4188\n"
     ]
    },
    {
     "name": "stderr",
     "output_type": "stream",
     "text": [
      "/tmp/ipykernel_4141/234800523.py:35: UserWarning: Implicit dimension choice for softmax has been deprecated. Change the call to include dim=X as an argument.\n",
      "  loss = loss_fn(spec_logits, torch.nn.functional.softmax(head_logits))\n",
      " 38%|███▊      | 2398/6250 [1:13:50<1:57:02,  1.82s/it]"
     ]
    },
    {
     "name": "stdout",
     "output_type": "stream",
     "text": [
      "Epoch: 0 | Loss: 6.0938 | Avg Last 5 Loss: 6.4437\n"
     ]
    },
    {
     "name": "stderr",
     "output_type": "stream",
     "text": [
      "/tmp/ipykernel_4141/234800523.py:35: UserWarning: Implicit dimension choice for softmax has been deprecated. Change the call to include dim=X as an argument.\n",
      "  loss = loss_fn(spec_logits, torch.nn.functional.softmax(head_logits))\n",
      " 38%|███▊      | 2399/6250 [1:13:52<1:57:08,  1.83s/it]"
     ]
    },
    {
     "name": "stdout",
     "output_type": "stream",
     "text": [
      "Epoch: 0 | Loss: 5.7188 | Avg Last 5 Loss: 6.4000\n"
     ]
    },
    {
     "name": "stderr",
     "output_type": "stream",
     "text": [
      "/tmp/ipykernel_4141/234800523.py:35: UserWarning: Implicit dimension choice for softmax has been deprecated. Change the call to include dim=X as an argument.\n",
      "  loss = loss_fn(spec_logits, torch.nn.functional.softmax(head_logits))\n",
      " 38%|███▊      | 2399/6250 [1:13:53<1:58:36,  1.85s/it]\n"
     ]
    },
    {
     "ename": "KeyboardInterrupt",
     "evalue": "",
     "output_type": "error",
     "traceback": [
      "\u001b[0;31m---------------------------------------------------------------------------\u001b[0m",
      "\u001b[0;31mKeyboardInterrupt\u001b[0m                         Traceback (most recent call last)",
      "\u001b[0;32m/tmp/ipykernel_4141/234800523.py\u001b[0m in \u001b[0;36m<cell line: 24>\u001b[0;34m()\u001b[0m\n\u001b[1;32m     36\u001b[0m \u001b[0;34m\u001b[0m\u001b[0m\n\u001b[1;32m     37\u001b[0m         \u001b[0;31m# Update loss tracking\u001b[0m\u001b[0;34m\u001b[0m\u001b[0;34m\u001b[0m\u001b[0m\n\u001b[0;32m---> 38\u001b[0;31m         \u001b[0mloss_values\u001b[0m\u001b[0;34m.\u001b[0m\u001b[0mappend\u001b[0m\u001b[0;34m(\u001b[0m\u001b[0mloss\u001b[0m\u001b[0;34m.\u001b[0m\u001b[0mitem\u001b[0m\u001b[0;34m(\u001b[0m\u001b[0;34m)\u001b[0m\u001b[0;34m)\u001b[0m\u001b[0;34m\u001b[0m\u001b[0;34m\u001b[0m\u001b[0m\n\u001b[0m\u001b[1;32m     39\u001b[0m         \u001b[0mrecent_losses\u001b[0m\u001b[0;34m.\u001b[0m\u001b[0mappend\u001b[0m\u001b[0;34m(\u001b[0m\u001b[0mloss\u001b[0m\u001b[0;34m.\u001b[0m\u001b[0mitem\u001b[0m\u001b[0;34m(\u001b[0m\u001b[0;34m)\u001b[0m\u001b[0;34m)\u001b[0m\u001b[0;34m\u001b[0m\u001b[0;34m\u001b[0m\u001b[0m\n\u001b[1;32m     40\u001b[0m         \u001b[0;32mif\u001b[0m \u001b[0mlen\u001b[0m\u001b[0;34m(\u001b[0m\u001b[0mrecent_losses\u001b[0m\u001b[0;34m)\u001b[0m \u001b[0;34m>\u001b[0m \u001b[0;36m5\u001b[0m\u001b[0;34m:\u001b[0m\u001b[0;34m\u001b[0m\u001b[0;34m\u001b[0m\u001b[0m\n",
      "\u001b[0;31mKeyboardInterrupt\u001b[0m: "
     ]
    }
   ],
   "source": [
    "import matplotlib.pyplot as plt\n",
    "from IPython.display import clear_output\n",
    "import gc\n",
    "import numpy as np\n",
    "from torch.optim.lr_scheduler import LinearLR  # Corrected import\n",
    "\n",
    "# Training setup\n",
    "optimizer = torch.optim.Adam(speculator_head.parameters(), lr=3e-5)\n",
    "loss_fn = torch.nn.CrossEntropyLoss()\n",
    "\n",
    "num_epochs = 1  # adjust as needed\n",
    "torch.cuda.empty_cache()\n",
    "_ = gc.collect()\n",
    "\n",
    "specModel.train()\n",
    "\n",
    "total_steps = num_epochs * len(dataloader)  # Total training steps\n",
    "scheduler = LinearLR(optimizer, start_factor=1.0, end_factor=0.1, total_iters=total_steps)  # Linear decay from 1.0 to 0.1\n",
    "\n",
    "# Loss tracking\n",
    "loss_values = []\n",
    "recent_losses = []\n",
    "\n",
    "for epoch in range(num_epochs):\n",
    "    idx = 0\n",
    "    for batch in tqdm.tqdm(dataloader):\n",
    "        input_ids = batch[\"input_ids\"].to(device)\n",
    "\n",
    "        head_logits, spec_logits = specModel(input_ids)\n",
    "        head_logits = head_logits[:, 1:, :]\n",
    "        spec_logits = spec_logits[:, :-1, :]\n",
    "\n",
    "        head_logits = head_logits.reshape(-1, head_logits.shape[-1])\n",
    "        spec_logits = spec_logits.reshape(-1, spec_logits.shape[-1])\n",
    "        loss = loss_fn(spec_logits, torch.nn.functional.softmax(head_logits))\n",
    "\n",
    "        # Update loss tracking\n",
    "        loss_values.append(loss.item())\n",
    "        recent_losses.append(loss.item())\n",
    "        if len(recent_losses) > 5:\n",
    "            recent_losses.pop(0)\n",
    "        \n",
    "        avg_recent_loss = np.mean(recent_losses)\n",
    "\n",
    "        optimizer.zero_grad()\n",
    "        loss.backward()\n",
    "        optimizer.step()\n",
    "        scheduler.step()\n",
    "\n",
    "        print(f\"Epoch: {epoch} | Loss: {loss.item():.4f} | Avg Last 5 Loss: {avg_recent_loss:.4f}\")\n",
    "\n",
    "        # Live update of the plot every 10 batches\n",
    "        if idx % 15 == 0:\n",
    "            clear_output(True)\n",
    "            fig, ax = plt.subplots(figsize=(10, 6))\n",
    "            line, = ax.plot(range(len(loss_values)), loss_values, label=\"Training Loss\", color=\"blue\")\n",
    "            ax.set_xlabel(\"Batch\")\n",
    "            ax.set_ylabel(\"Loss\")\n",
    "            ax.set_title(\"Training Loss Curve\")\n",
    "            ax.legend()\n",
    "            ax.grid(True)\n",
    "            ax.autoscale_view()\n",
    "            # plt.\n",
    "            plt.show()\n",
    "            # plt.pause(0.1)  # Пауза для обновления графика    \n",
    "\n",
    "        idx += 1\n",
    "        if idx % 1000 == 0:\n",
    "            # torch.save(specModel.speculator_head.state_dict(), \"speculator_head1.pth\")\n",
    "\n",
    "# Save the final model\n",
    "# torch.save(specModel.speculator_head.state_dict(), \"speculator_head1.pth\")\n",
    "\n",
    "plt.show()  # Display final loss curve\n"
   ]
  },
  {
   "cell_type": "code",
   "execution_count": null,
   "id": "9727e578-a363-4c44-841b-12937fb3c21a",
   "metadata": {
    "tags": []
   },
   "outputs": [],
   "source": [
    "# for batch in tqdm.tqdm(dataloader):\n",
    "#     input_ids = batch[\"input_ids\"].to(device)"
   ]
  },
  {
   "cell_type": "code",
   "execution_count": 17,
   "id": "a703b374-a13e-406d-8812-1536174c3925",
   "metadata": {
    "execution": {
     "iopub.execute_input": "2025-04-04T07:59:57.756575Z",
     "iopub.status.busy": "2025-04-04T07:59:57.755547Z",
     "iopub.status.idle": "2025-04-04T07:59:57.768320Z",
     "shell.execute_reply": "2025-04-04T07:59:57.767567Z",
     "shell.execute_reply.started": "2025-04-04T07:59:57.756529Z"
    },
    "tags": []
   },
   "outputs": [],
   "source": [
    "import torch.nn.functional as F\n",
    "\n",
    "def compute_accuracy(model, dataloader, device):\n",
    "    model.eval()\n",
    "    agree = 0\n",
    "    total = 0\n",
    "\n",
    "    with torch.no_grad():\n",
    "        idx = 0\n",
    "        for batch in dataloader:\n",
    "            \n",
    "            input_ids = batch[\"input_ids\"].to(device)\n",
    "            attention_mask = batch[\"attention_mask\"].to(device)\n",
    "\n",
    "            main_logits, spec_logits = model(input_ids, attention_mask)\n",
    "            \n",
    "            main_logits = main_logits[:, 1:, :]\n",
    "            spec_logits = spec_logits[:, :-1, :]\n",
    "\n",
    "            main_preds = torch.argmax(main_logits, dim=-1)\n",
    "            spec_preds = torch.argmax(spec_logits, dim=-1)\n",
    "\n",
    "            agree += (main_preds == spec_preds).sum().item()\n",
    "            total += main_preds.numel()\n",
    "            \n",
    "            idx += 1\n",
    "            if idx > 30:\n",
    "                break\n",
    "\n",
    "    return agree / total if total > 0 else 0"
   ]
  },
  {
   "cell_type": "code",
   "execution_count": 18,
   "id": "7d07d74a-5675-404b-924d-fc12b4c944ea",
   "metadata": {
    "execution": {
     "iopub.execute_input": "2025-04-04T08:00:00.488337Z",
     "iopub.status.busy": "2025-04-04T08:00:00.487160Z",
     "iopub.status.idle": "2025-04-04T08:00:35.751454Z",
     "shell.execute_reply": "2025-04-04T08:00:35.750531Z",
     "shell.execute_reply.started": "2025-04-04T08:00:00.488289Z"
    },
    "tags": []
   },
   "outputs": [
    {
     "name": "stderr",
     "output_type": "stream",
     "text": [
      "  0%|          | 30/6250 [00:35<2:01:25,  1.17s/it]"
     ]
    },
    {
     "name": "stdout",
     "output_type": "stream",
     "text": [
      "0.18713487426974854\n"
     ]
    },
    {
     "name": "stderr",
     "output_type": "stream",
     "text": [
      "\n"
     ]
    }
   ],
   "source": [
    "print(compute_accuracy(specModel, tqdm.tqdm(dataloader), device))"
   ]
  },
  {
   "cell_type": "code",
   "execution_count": 16,
   "id": "9c215531-3016-4db9-bbec-247425cc109a",
   "metadata": {
    "execution": {
     "iopub.execute_input": "2025-04-04T07:59:05.658295Z",
     "iopub.status.busy": "2025-04-04T07:59:05.657727Z",
     "iopub.status.idle": "2025-04-04T07:59:05.822335Z",
     "shell.execute_reply": "2025-04-04T07:59:05.821308Z",
     "shell.execute_reply.started": "2025-04-04T07:59:05.658256Z"
    },
    "tags": []
   },
   "outputs": [
    {
     "name": "stderr",
     "output_type": "stream",
     "text": [
      "  0%|          | 0/6250 [00:00<?, ?it/s]"
     ]
    },
    {
     "name": "stdout",
     "output_type": "stream",
     "text": [
      "torch.Size([8, 128, 128256])\n",
      "torch.Size([8, 128, 128256])\n"
     ]
    },
    {
     "name": "stderr",
     "output_type": "stream",
     "text": [
      "\n"
     ]
    }
   ],
   "source": [
    "batch = next(iter(tqdm.tqdm(dataloader)))\n",
    "\n",
    "# print(batch['input_ids'].size(dim=0))\n",
    "# print(batch['input_ids'].size(dim=1))\n",
    "specModel.eval()\n",
    "\n",
    "input_ids = batch[\"input_ids\"].to(device)\n",
    "attention_mask = batch[\"attention_mask\"].to(device)\n",
    "main_logits, spec_logits = specModel(input_ids, attention_mask)\n",
    "\n",
    "print(main_logits.size())\n",
    "print(spec_logits.size())"
   ]
  }
 ],
 "metadata": {
  "kernelspec": {
   "display_name": "DataSphere Kernel",
   "language": "python",
   "name": "python3"
  },
  "language_info": {
   "codemirror_mode": {
    "name": "ipython",
    "version": 3
   },
   "file_extension": ".py",
   "mimetype": "text/x-python",
   "name": "python",
   "nbconvert_exporter": "python",
   "pygments_lexer": "ipython3",
   "version": "3.10.12"
  }
 },
 "nbformat": 4,
 "nbformat_minor": 5
}
